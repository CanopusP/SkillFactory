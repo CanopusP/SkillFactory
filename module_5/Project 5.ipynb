{
 "cells": [
  {
   "cell_type": "code",
   "execution_count": 3,
   "id": "c4af65e5",
   "metadata": {},
   "outputs": [],
   "source": [
    "# libraries\n",
    "import numpy as np\n",
    "import pandas as pd\n",
    "from matplotlib import pyplot as plt\n",
    "import seaborn as sns\n",
    "%matplotlib inline\n",
    "from sklearn.model_selection import train_test_split, GridSearchCV\n",
    "from sklearn.feature_selection import f_classif, mutual_info_classif \n",
    "from sklearn.preprocessing import LabelEncoder, OneHotEncoder, StandardScaler, MinMaxScaler, RobustScaler\n",
    "from sklearn.linear_model import LogisticRegression\n",
    "from sklearn.metrics import confusion_matrix, roc_auc_score, classification_report, fbeta_score, roc_curve\n",
    "from datetime import datetime, date, time"
   ]
  },
  {
   "cell_type": "code",
   "execution_count": 5,
   "id": "a6639314",
   "metadata": {},
   "outputs": [
    {
     "data": {
      "text/plain": [
       "((73799, 19), (36349, 18), (36349, 2))"
      ]
     },
     "execution_count": 5,
     "metadata": {},
     "output_type": "execute_result"
    }
   ],
   "source": [
    "# read data\n",
    "data_train = pd.read_csv('D:/Python/Codes/projects/SkillFactory/module_5/train.csv')\n",
    "data_test = pd.read_csv('D:/Python/Codes/projects/SkillFactory/module_5/test.csv')\n",
    "sample_submission = pd.read_csv('D:/Python/Codes/projects/SkillFactory/module_5/sample_submission.csv')\n",
    "# check the shapes\n",
    "data_train.shape, data_test.shape, sample_submission.shape"
   ]
  },
  {
   "cell_type": "code",
   "execution_count": 6,
   "id": "53efb324",
   "metadata": {},
   "outputs": [],
   "source": [
    "# merge train and test for \n",
    "data_train['sample'] = 1 # mark the train\n",
    "data_test['sample'] = 0  # mark the test\n",
    "data_test['default'] = 0 # mark default as 0\n",
    "data = data_test.append(data_train, sort=False).reset_index(drop=True) # merge"
   ]
  },
  {
   "cell_type": "code",
   "execution_count": 7,
   "id": "fe05c002",
   "metadata": {},
   "outputs": [
    {
     "name": "stdout",
     "output_type": "stream",
     "text": [
      "    client_id   app_date education sex  age car car_type  decline_app_cnt  \\\n",
      "0       74835  22MAR2014       GRD   M   29   Y        Y                0   \n",
      "1       17527  24JAN2014       SCH   F   39   N        N                5   \n",
      "2       75683  23MAR2014       UGR   M   50   Y        Y                0   \n",
      "3       26883  03FEB2014       SCH   M   56   N        N                0   \n",
      "4       28862  04FEB2014       GRD   F   38   N        N                0   \n",
      "5       99881  17APR2014       SCH   F   55   N        N                0   \n",
      "6       26630  02FEB2014       SCH   F   30   N        N                3   \n",
      "7       79934  28MAR2014       GRD   M   41   Y        Y                0   \n",
      "8       16605  23JAN2014       GRD   M   34   N        N                0   \n",
      "9      105449  24APR2014       UGR   M   28   Y        Y                0   \n",
      "10      49000  25FEB2014       GRD   F   32   Y        Y                0   \n",
      "11      28589  04FEB2014       GRD   M   37   Y        Y                0   \n",
      "12       7706  15JAN2014       SCH   F   43   N        N                0   \n",
      "13      96743  13APR2014       GRD   M   27   Y        N                0   \n",
      "14      63018  12MAR2014       SCH   M   46   Y        N                0   \n",
      "15      68282  17MAR2014       SCH   M   46   Y        Y                0   \n",
      "16      25663  01FEB2014       GRD   M   27   Y        Y                0   \n",
      "17      39302  15FEB2014       SCH   F   52   N        N                1   \n",
      "18      84204  01APR2014       GRD   M   43   Y        Y                0   \n",
      "19      44202  20FEB2014       SCH   M   49   N        N                0   \n",
      "20     102650  20APR2014       SCH   F   53   N        N                0   \n",
      "21      19519  27JAN2014       UGR   F   36   N        N                0   \n",
      "22      47829  24FEB2014       SCH   F   39   N        N                0   \n",
      "23      10899  18JAN2014       SCH   F   61   N        N                0   \n",
      "24      16211  23JAN2014       PGR   M   37   N        N                0   \n",
      "\n",
      "    good_work  score_bki  bki_request_cnt  region_rating  home_address  \\\n",
      "0           0  -2.271884                3             50             1   \n",
      "1           0  -1.504999                2             50             1   \n",
      "2           0  -1.691339                1             50             1   \n",
      "3           0  -2.374182                1             40             1   \n",
      "4           0  -2.487502                0             80             2   \n",
      "5           0  -1.740224                7             50             3   \n",
      "6           0  -1.387847                5             60             1   \n",
      "7           0  -3.066047                3             60             1   \n",
      "8           0  -3.117086                0             80             2   \n",
      "9           0  -2.185172                0             80             2   \n",
      "10          1  -1.929331                2             50             2   \n",
      "11          0  -1.813165                1             50             1   \n",
      "12          0  -2.105789                0             70             1   \n",
      "13          1  -2.005796                0             60             2   \n",
      "14          0  -2.054394                3             40             2   \n",
      "15          1  -2.716155                1             50             2   \n",
      "16          0  -1.282734                0             60             1   \n",
      "17          0  -1.965286                2             50             1   \n",
      "18          1  -1.976719                0             50             2   \n",
      "19          0  -1.634663                1             50             2   \n",
      "20          0  -1.432224                3             50             1   \n",
      "21          0  -1.712838                0             20             3   \n",
      "22          1  -1.564116                2             60             1   \n",
      "23          1  -1.792209                1             80             2   \n",
      "24          0  -2.723952                1             50             1   \n",
      "\n",
      "    work_address  income  sna  first_time foreign_passport  sample  default  \n",
      "0              2   50000    1           4                N       0        0  \n",
      "1              2    5000    4           3                N       0        0  \n",
      "2              2   30000    1           3                Y       0        0  \n",
      "3              2   17000    1           3                N       0        0  \n",
      "4              3  120000    1           3                N       0        0  \n",
      "5              3   30000    2           1                N       0        0  \n",
      "6              2   11000    4           3                N       0        0  \n",
      "7              3   80000    4           1                N       0        0  \n",
      "8              3    5000    1           2                N       0        0  \n",
      "9              3   80000    1           3                Y       0        0  \n",
      "10             3   40000    4           1                N       0        0  \n",
      "11             3  120000    1           2                Y       0        0  \n",
      "12             1   40000    1           2                N       0        0  \n",
      "13             3   30000    3           3                Y       0        0  \n",
      "14             3   50000    4           1                N       0        0  \n",
      "15             3   80000    1           4                N       0        0  \n",
      "16             2   35000    1           3                N       0        0  \n",
      "17             2   10000    1           2                N       0        0  \n",
      "18             3  120000    2           3                N       0        0  \n",
      "19             3    7100    1           1                N       0        0  \n",
      "20             2   15000    1           2                N       0        0  \n",
      "21             3   40000    1           2                N       0        0  \n",
      "22             1   20000    1           3                N       0        0  \n",
      "23             3   40000    1           4                N       0        0  \n",
      "24             3  100000    4           1                N       0        0  \n"
     ]
    },
    {
     "data": {
      "text/plain": [
       "client_id           110148\n",
       "app_date               120\n",
       "education                6\n",
       "sex                      2\n",
       "age                     52\n",
       "car                      2\n",
       "car_type                 2\n",
       "decline_app_cnt         24\n",
       "good_work                2\n",
       "score_bki           102618\n",
       "bki_request_cnt         40\n",
       "region_rating            7\n",
       "home_address             3\n",
       "work_address             3\n",
       "income                1207\n",
       "sna                      4\n",
       "first_time               4\n",
       "foreign_passport         2\n",
       "sample                   2\n",
       "default                  2\n",
       "dtype: int64"
      ]
     },
     "execution_count": 7,
     "metadata": {},
     "output_type": "execute_result"
    }
   ],
   "source": [
    "# let's look at data\n",
    "print(data.head(25))\n",
    "data.nunique(dropna=False)"
   ]
  },
  {
   "cell_type": "code",
   "execution_count": 8,
   "id": "7c2cd463",
   "metadata": {},
   "outputs": [],
   "source": [
    "# Describing features\n",
    "#     client_id - client id\n",
    "#     education - education degree\n",
    "#     sex - client sex\n",
    "#     age - client age\n",
    "#     car - car presense\n",
    "#     car_type - foreign car presense\n",
    "#     decline_app_cnt - refused applications\n",
    "#     good_work - good work presense\n",
    "#     bki_request_cnt - request to BKI\n",
    "#     home_address - living address degree\n",
    "#     work_address - work address degree\n",
    "#     income - client income\n",
    "#     foreign_passport - foreign passport presense\n",
    "#     sna - social network analysis\n",
    "#     first_time - information about clients accuracy \n",
    "#     score_bki - BKI score\n",
    "#     region_rating - region rating\n",
    "#     app_date - application date\n",
    "#     default - default ability"
   ]
  },
  {
   "cell_type": "code",
   "execution_count": 10,
   "id": "289428c8",
   "metadata": {},
   "outputs": [
    {
     "data": {
      "text/html": [
       "<div>\n",
       "<style scoped>\n",
       "    .dataframe tbody tr th:only-of-type {\n",
       "        vertical-align: middle;\n",
       "    }\n",
       "\n",
       "    .dataframe tbody tr th {\n",
       "        vertical-align: top;\n",
       "    }\n",
       "\n",
       "    .dataframe thead th {\n",
       "        text-align: right;\n",
       "    }\n",
       "</style>\n",
       "<table border=\"1\" class=\"dataframe\">\n",
       "  <thead>\n",
       "    <tr style=\"text-align: right;\">\n",
       "      <th></th>\n",
       "      <th>client_id</th>\n",
       "      <th>app_date</th>\n",
       "      <th>education</th>\n",
       "      <th>sex</th>\n",
       "      <th>age</th>\n",
       "      <th>car</th>\n",
       "      <th>car_type</th>\n",
       "      <th>decline_app_cnt</th>\n",
       "      <th>good_work</th>\n",
       "      <th>score_bki</th>\n",
       "      <th>...</th>\n",
       "      <th>sna_1</th>\n",
       "      <th>sna_2</th>\n",
       "      <th>sna_3</th>\n",
       "      <th>sna_4</th>\n",
       "      <th>first_time_1</th>\n",
       "      <th>first_time_2</th>\n",
       "      <th>first_time_3</th>\n",
       "      <th>first_time_4</th>\n",
       "      <th>foreign_passport_0</th>\n",
       "      <th>foreign_passport_1</th>\n",
       "    </tr>\n",
       "  </thead>\n",
       "  <tbody>\n",
       "    <tr>\n",
       "      <th>0</th>\n",
       "      <td>74835</td>\n",
       "      <td>2014-03-22</td>\n",
       "      <td>GRD</td>\n",
       "      <td>1</td>\n",
       "      <td>29</td>\n",
       "      <td>1</td>\n",
       "      <td>1</td>\n",
       "      <td>0</td>\n",
       "      <td>0</td>\n",
       "      <td>-2.271884</td>\n",
       "      <td>...</td>\n",
       "      <td>1</td>\n",
       "      <td>0</td>\n",
       "      <td>0</td>\n",
       "      <td>0</td>\n",
       "      <td>0</td>\n",
       "      <td>0</td>\n",
       "      <td>0</td>\n",
       "      <td>1</td>\n",
       "      <td>1</td>\n",
       "      <td>0</td>\n",
       "    </tr>\n",
       "    <tr>\n",
       "      <th>1</th>\n",
       "      <td>17527</td>\n",
       "      <td>2014-01-24</td>\n",
       "      <td>SCH</td>\n",
       "      <td>0</td>\n",
       "      <td>39</td>\n",
       "      <td>0</td>\n",
       "      <td>0</td>\n",
       "      <td>5</td>\n",
       "      <td>0</td>\n",
       "      <td>-1.504999</td>\n",
       "      <td>...</td>\n",
       "      <td>0</td>\n",
       "      <td>0</td>\n",
       "      <td>0</td>\n",
       "      <td>1</td>\n",
       "      <td>0</td>\n",
       "      <td>0</td>\n",
       "      <td>1</td>\n",
       "      <td>0</td>\n",
       "      <td>1</td>\n",
       "      <td>0</td>\n",
       "    </tr>\n",
       "    <tr>\n",
       "      <th>2</th>\n",
       "      <td>75683</td>\n",
       "      <td>2014-03-23</td>\n",
       "      <td>UGR</td>\n",
       "      <td>1</td>\n",
       "      <td>50</td>\n",
       "      <td>1</td>\n",
       "      <td>1</td>\n",
       "      <td>0</td>\n",
       "      <td>0</td>\n",
       "      <td>-1.691339</td>\n",
       "      <td>...</td>\n",
       "      <td>1</td>\n",
       "      <td>0</td>\n",
       "      <td>0</td>\n",
       "      <td>0</td>\n",
       "      <td>0</td>\n",
       "      <td>0</td>\n",
       "      <td>1</td>\n",
       "      <td>0</td>\n",
       "      <td>0</td>\n",
       "      <td>1</td>\n",
       "    </tr>\n",
       "    <tr>\n",
       "      <th>3</th>\n",
       "      <td>26883</td>\n",
       "      <td>2014-02-03</td>\n",
       "      <td>SCH</td>\n",
       "      <td>1</td>\n",
       "      <td>56</td>\n",
       "      <td>0</td>\n",
       "      <td>0</td>\n",
       "      <td>0</td>\n",
       "      <td>0</td>\n",
       "      <td>-2.374182</td>\n",
       "      <td>...</td>\n",
       "      <td>1</td>\n",
       "      <td>0</td>\n",
       "      <td>0</td>\n",
       "      <td>0</td>\n",
       "      <td>0</td>\n",
       "      <td>0</td>\n",
       "      <td>1</td>\n",
       "      <td>0</td>\n",
       "      <td>1</td>\n",
       "      <td>0</td>\n",
       "    </tr>\n",
       "    <tr>\n",
       "      <th>4</th>\n",
       "      <td>28862</td>\n",
       "      <td>2014-02-04</td>\n",
       "      <td>GRD</td>\n",
       "      <td>0</td>\n",
       "      <td>38</td>\n",
       "      <td>0</td>\n",
       "      <td>0</td>\n",
       "      <td>0</td>\n",
       "      <td>0</td>\n",
       "      <td>-2.487502</td>\n",
       "      <td>...</td>\n",
       "      <td>1</td>\n",
       "      <td>0</td>\n",
       "      <td>0</td>\n",
       "      <td>0</td>\n",
       "      <td>0</td>\n",
       "      <td>0</td>\n",
       "      <td>1</td>\n",
       "      <td>0</td>\n",
       "      <td>1</td>\n",
       "      <td>0</td>\n",
       "    </tr>\n",
       "    <tr>\n",
       "      <th>5</th>\n",
       "      <td>99881</td>\n",
       "      <td>2014-04-17</td>\n",
       "      <td>SCH</td>\n",
       "      <td>0</td>\n",
       "      <td>55</td>\n",
       "      <td>0</td>\n",
       "      <td>0</td>\n",
       "      <td>0</td>\n",
       "      <td>0</td>\n",
       "      <td>-1.740224</td>\n",
       "      <td>...</td>\n",
       "      <td>0</td>\n",
       "      <td>1</td>\n",
       "      <td>0</td>\n",
       "      <td>0</td>\n",
       "      <td>1</td>\n",
       "      <td>0</td>\n",
       "      <td>0</td>\n",
       "      <td>0</td>\n",
       "      <td>1</td>\n",
       "      <td>0</td>\n",
       "    </tr>\n",
       "    <tr>\n",
       "      <th>6</th>\n",
       "      <td>26630</td>\n",
       "      <td>2014-02-02</td>\n",
       "      <td>SCH</td>\n",
       "      <td>0</td>\n",
       "      <td>30</td>\n",
       "      <td>0</td>\n",
       "      <td>0</td>\n",
       "      <td>3</td>\n",
       "      <td>0</td>\n",
       "      <td>-1.387847</td>\n",
       "      <td>...</td>\n",
       "      <td>0</td>\n",
       "      <td>0</td>\n",
       "      <td>0</td>\n",
       "      <td>1</td>\n",
       "      <td>0</td>\n",
       "      <td>0</td>\n",
       "      <td>1</td>\n",
       "      <td>0</td>\n",
       "      <td>1</td>\n",
       "      <td>0</td>\n",
       "    </tr>\n",
       "    <tr>\n",
       "      <th>7</th>\n",
       "      <td>79934</td>\n",
       "      <td>2014-03-28</td>\n",
       "      <td>GRD</td>\n",
       "      <td>1</td>\n",
       "      <td>41</td>\n",
       "      <td>1</td>\n",
       "      <td>1</td>\n",
       "      <td>0</td>\n",
       "      <td>0</td>\n",
       "      <td>-3.066047</td>\n",
       "      <td>...</td>\n",
       "      <td>0</td>\n",
       "      <td>0</td>\n",
       "      <td>0</td>\n",
       "      <td>1</td>\n",
       "      <td>1</td>\n",
       "      <td>0</td>\n",
       "      <td>0</td>\n",
       "      <td>0</td>\n",
       "      <td>1</td>\n",
       "      <td>0</td>\n",
       "    </tr>\n",
       "    <tr>\n",
       "      <th>8</th>\n",
       "      <td>16605</td>\n",
       "      <td>2014-01-23</td>\n",
       "      <td>GRD</td>\n",
       "      <td>1</td>\n",
       "      <td>34</td>\n",
       "      <td>0</td>\n",
       "      <td>0</td>\n",
       "      <td>0</td>\n",
       "      <td>0</td>\n",
       "      <td>-3.117086</td>\n",
       "      <td>...</td>\n",
       "      <td>1</td>\n",
       "      <td>0</td>\n",
       "      <td>0</td>\n",
       "      <td>0</td>\n",
       "      <td>0</td>\n",
       "      <td>1</td>\n",
       "      <td>0</td>\n",
       "      <td>0</td>\n",
       "      <td>1</td>\n",
       "      <td>0</td>\n",
       "    </tr>\n",
       "    <tr>\n",
       "      <th>9</th>\n",
       "      <td>105449</td>\n",
       "      <td>2014-04-24</td>\n",
       "      <td>UGR</td>\n",
       "      <td>1</td>\n",
       "      <td>28</td>\n",
       "      <td>1</td>\n",
       "      <td>1</td>\n",
       "      <td>0</td>\n",
       "      <td>0</td>\n",
       "      <td>-2.185172</td>\n",
       "      <td>...</td>\n",
       "      <td>1</td>\n",
       "      <td>0</td>\n",
       "      <td>0</td>\n",
       "      <td>0</td>\n",
       "      <td>0</td>\n",
       "      <td>0</td>\n",
       "      <td>1</td>\n",
       "      <td>0</td>\n",
       "      <td>0</td>\n",
       "      <td>1</td>\n",
       "    </tr>\n",
       "    <tr>\n",
       "      <th>10</th>\n",
       "      <td>49000</td>\n",
       "      <td>2014-02-25</td>\n",
       "      <td>GRD</td>\n",
       "      <td>0</td>\n",
       "      <td>32</td>\n",
       "      <td>1</td>\n",
       "      <td>1</td>\n",
       "      <td>0</td>\n",
       "      <td>1</td>\n",
       "      <td>-1.929331</td>\n",
       "      <td>...</td>\n",
       "      <td>0</td>\n",
       "      <td>0</td>\n",
       "      <td>0</td>\n",
       "      <td>1</td>\n",
       "      <td>1</td>\n",
       "      <td>0</td>\n",
       "      <td>0</td>\n",
       "      <td>0</td>\n",
       "      <td>1</td>\n",
       "      <td>0</td>\n",
       "    </tr>\n",
       "    <tr>\n",
       "      <th>11</th>\n",
       "      <td>28589</td>\n",
       "      <td>2014-02-04</td>\n",
       "      <td>GRD</td>\n",
       "      <td>1</td>\n",
       "      <td>37</td>\n",
       "      <td>1</td>\n",
       "      <td>1</td>\n",
       "      <td>0</td>\n",
       "      <td>0</td>\n",
       "      <td>-1.813165</td>\n",
       "      <td>...</td>\n",
       "      <td>1</td>\n",
       "      <td>0</td>\n",
       "      <td>0</td>\n",
       "      <td>0</td>\n",
       "      <td>0</td>\n",
       "      <td>1</td>\n",
       "      <td>0</td>\n",
       "      <td>0</td>\n",
       "      <td>0</td>\n",
       "      <td>1</td>\n",
       "    </tr>\n",
       "    <tr>\n",
       "      <th>12</th>\n",
       "      <td>7706</td>\n",
       "      <td>2014-01-15</td>\n",
       "      <td>SCH</td>\n",
       "      <td>0</td>\n",
       "      <td>43</td>\n",
       "      <td>0</td>\n",
       "      <td>0</td>\n",
       "      <td>0</td>\n",
       "      <td>0</td>\n",
       "      <td>-2.105789</td>\n",
       "      <td>...</td>\n",
       "      <td>1</td>\n",
       "      <td>0</td>\n",
       "      <td>0</td>\n",
       "      <td>0</td>\n",
       "      <td>0</td>\n",
       "      <td>1</td>\n",
       "      <td>0</td>\n",
       "      <td>0</td>\n",
       "      <td>1</td>\n",
       "      <td>0</td>\n",
       "    </tr>\n",
       "    <tr>\n",
       "      <th>13</th>\n",
       "      <td>96743</td>\n",
       "      <td>2014-04-13</td>\n",
       "      <td>GRD</td>\n",
       "      <td>1</td>\n",
       "      <td>27</td>\n",
       "      <td>1</td>\n",
       "      <td>0</td>\n",
       "      <td>0</td>\n",
       "      <td>1</td>\n",
       "      <td>-2.005796</td>\n",
       "      <td>...</td>\n",
       "      <td>0</td>\n",
       "      <td>0</td>\n",
       "      <td>1</td>\n",
       "      <td>0</td>\n",
       "      <td>0</td>\n",
       "      <td>0</td>\n",
       "      <td>1</td>\n",
       "      <td>0</td>\n",
       "      <td>0</td>\n",
       "      <td>1</td>\n",
       "    </tr>\n",
       "    <tr>\n",
       "      <th>14</th>\n",
       "      <td>63018</td>\n",
       "      <td>2014-03-12</td>\n",
       "      <td>SCH</td>\n",
       "      <td>1</td>\n",
       "      <td>46</td>\n",
       "      <td>1</td>\n",
       "      <td>0</td>\n",
       "      <td>0</td>\n",
       "      <td>0</td>\n",
       "      <td>-2.054394</td>\n",
       "      <td>...</td>\n",
       "      <td>0</td>\n",
       "      <td>0</td>\n",
       "      <td>0</td>\n",
       "      <td>1</td>\n",
       "      <td>1</td>\n",
       "      <td>0</td>\n",
       "      <td>0</td>\n",
       "      <td>0</td>\n",
       "      <td>1</td>\n",
       "      <td>0</td>\n",
       "    </tr>\n",
       "    <tr>\n",
       "      <th>15</th>\n",
       "      <td>68282</td>\n",
       "      <td>2014-03-17</td>\n",
       "      <td>SCH</td>\n",
       "      <td>1</td>\n",
       "      <td>46</td>\n",
       "      <td>1</td>\n",
       "      <td>1</td>\n",
       "      <td>0</td>\n",
       "      <td>1</td>\n",
       "      <td>-2.716155</td>\n",
       "      <td>...</td>\n",
       "      <td>1</td>\n",
       "      <td>0</td>\n",
       "      <td>0</td>\n",
       "      <td>0</td>\n",
       "      <td>0</td>\n",
       "      <td>0</td>\n",
       "      <td>0</td>\n",
       "      <td>1</td>\n",
       "      <td>1</td>\n",
       "      <td>0</td>\n",
       "    </tr>\n",
       "    <tr>\n",
       "      <th>16</th>\n",
       "      <td>25663</td>\n",
       "      <td>2014-02-01</td>\n",
       "      <td>GRD</td>\n",
       "      <td>1</td>\n",
       "      <td>27</td>\n",
       "      <td>1</td>\n",
       "      <td>1</td>\n",
       "      <td>0</td>\n",
       "      <td>0</td>\n",
       "      <td>-1.282734</td>\n",
       "      <td>...</td>\n",
       "      <td>1</td>\n",
       "      <td>0</td>\n",
       "      <td>0</td>\n",
       "      <td>0</td>\n",
       "      <td>0</td>\n",
       "      <td>0</td>\n",
       "      <td>1</td>\n",
       "      <td>0</td>\n",
       "      <td>1</td>\n",
       "      <td>0</td>\n",
       "    </tr>\n",
       "    <tr>\n",
       "      <th>17</th>\n",
       "      <td>39302</td>\n",
       "      <td>2014-02-15</td>\n",
       "      <td>SCH</td>\n",
       "      <td>0</td>\n",
       "      <td>52</td>\n",
       "      <td>0</td>\n",
       "      <td>0</td>\n",
       "      <td>1</td>\n",
       "      <td>0</td>\n",
       "      <td>-1.965286</td>\n",
       "      <td>...</td>\n",
       "      <td>1</td>\n",
       "      <td>0</td>\n",
       "      <td>0</td>\n",
       "      <td>0</td>\n",
       "      <td>0</td>\n",
       "      <td>1</td>\n",
       "      <td>0</td>\n",
       "      <td>0</td>\n",
       "      <td>1</td>\n",
       "      <td>0</td>\n",
       "    </tr>\n",
       "    <tr>\n",
       "      <th>18</th>\n",
       "      <td>84204</td>\n",
       "      <td>2014-04-01</td>\n",
       "      <td>GRD</td>\n",
       "      <td>1</td>\n",
       "      <td>43</td>\n",
       "      <td>1</td>\n",
       "      <td>1</td>\n",
       "      <td>0</td>\n",
       "      <td>1</td>\n",
       "      <td>-1.976719</td>\n",
       "      <td>...</td>\n",
       "      <td>0</td>\n",
       "      <td>1</td>\n",
       "      <td>0</td>\n",
       "      <td>0</td>\n",
       "      <td>0</td>\n",
       "      <td>0</td>\n",
       "      <td>1</td>\n",
       "      <td>0</td>\n",
       "      <td>1</td>\n",
       "      <td>0</td>\n",
       "    </tr>\n",
       "    <tr>\n",
       "      <th>19</th>\n",
       "      <td>44202</td>\n",
       "      <td>2014-02-20</td>\n",
       "      <td>SCH</td>\n",
       "      <td>1</td>\n",
       "      <td>49</td>\n",
       "      <td>0</td>\n",
       "      <td>0</td>\n",
       "      <td>0</td>\n",
       "      <td>0</td>\n",
       "      <td>-1.634663</td>\n",
       "      <td>...</td>\n",
       "      <td>1</td>\n",
       "      <td>0</td>\n",
       "      <td>0</td>\n",
       "      <td>0</td>\n",
       "      <td>1</td>\n",
       "      <td>0</td>\n",
       "      <td>0</td>\n",
       "      <td>0</td>\n",
       "      <td>1</td>\n",
       "      <td>0</td>\n",
       "    </tr>\n",
       "    <tr>\n",
       "      <th>20</th>\n",
       "      <td>102650</td>\n",
       "      <td>2014-04-20</td>\n",
       "      <td>SCH</td>\n",
       "      <td>0</td>\n",
       "      <td>53</td>\n",
       "      <td>0</td>\n",
       "      <td>0</td>\n",
       "      <td>0</td>\n",
       "      <td>0</td>\n",
       "      <td>-1.432224</td>\n",
       "      <td>...</td>\n",
       "      <td>1</td>\n",
       "      <td>0</td>\n",
       "      <td>0</td>\n",
       "      <td>0</td>\n",
       "      <td>0</td>\n",
       "      <td>1</td>\n",
       "      <td>0</td>\n",
       "      <td>0</td>\n",
       "      <td>1</td>\n",
       "      <td>0</td>\n",
       "    </tr>\n",
       "    <tr>\n",
       "      <th>21</th>\n",
       "      <td>19519</td>\n",
       "      <td>2014-01-27</td>\n",
       "      <td>UGR</td>\n",
       "      <td>0</td>\n",
       "      <td>36</td>\n",
       "      <td>0</td>\n",
       "      <td>0</td>\n",
       "      <td>0</td>\n",
       "      <td>0</td>\n",
       "      <td>-1.712838</td>\n",
       "      <td>...</td>\n",
       "      <td>1</td>\n",
       "      <td>0</td>\n",
       "      <td>0</td>\n",
       "      <td>0</td>\n",
       "      <td>0</td>\n",
       "      <td>1</td>\n",
       "      <td>0</td>\n",
       "      <td>0</td>\n",
       "      <td>1</td>\n",
       "      <td>0</td>\n",
       "    </tr>\n",
       "    <tr>\n",
       "      <th>22</th>\n",
       "      <td>47829</td>\n",
       "      <td>2014-02-24</td>\n",
       "      <td>SCH</td>\n",
       "      <td>0</td>\n",
       "      <td>39</td>\n",
       "      <td>0</td>\n",
       "      <td>0</td>\n",
       "      <td>0</td>\n",
       "      <td>1</td>\n",
       "      <td>-1.564116</td>\n",
       "      <td>...</td>\n",
       "      <td>1</td>\n",
       "      <td>0</td>\n",
       "      <td>0</td>\n",
       "      <td>0</td>\n",
       "      <td>0</td>\n",
       "      <td>0</td>\n",
       "      <td>1</td>\n",
       "      <td>0</td>\n",
       "      <td>1</td>\n",
       "      <td>0</td>\n",
       "    </tr>\n",
       "    <tr>\n",
       "      <th>23</th>\n",
       "      <td>10899</td>\n",
       "      <td>2014-01-18</td>\n",
       "      <td>SCH</td>\n",
       "      <td>0</td>\n",
       "      <td>61</td>\n",
       "      <td>0</td>\n",
       "      <td>0</td>\n",
       "      <td>0</td>\n",
       "      <td>1</td>\n",
       "      <td>-1.792209</td>\n",
       "      <td>...</td>\n",
       "      <td>1</td>\n",
       "      <td>0</td>\n",
       "      <td>0</td>\n",
       "      <td>0</td>\n",
       "      <td>0</td>\n",
       "      <td>0</td>\n",
       "      <td>0</td>\n",
       "      <td>1</td>\n",
       "      <td>1</td>\n",
       "      <td>0</td>\n",
       "    </tr>\n",
       "    <tr>\n",
       "      <th>24</th>\n",
       "      <td>16211</td>\n",
       "      <td>2014-01-23</td>\n",
       "      <td>PGR</td>\n",
       "      <td>1</td>\n",
       "      <td>37</td>\n",
       "      <td>0</td>\n",
       "      <td>0</td>\n",
       "      <td>0</td>\n",
       "      <td>0</td>\n",
       "      <td>-2.723952</td>\n",
       "      <td>...</td>\n",
       "      <td>0</td>\n",
       "      <td>0</td>\n",
       "      <td>0</td>\n",
       "      <td>1</td>\n",
       "      <td>1</td>\n",
       "      <td>0</td>\n",
       "      <td>0</td>\n",
       "      <td>0</td>\n",
       "      <td>1</td>\n",
       "      <td>0</td>\n",
       "    </tr>\n",
       "  </tbody>\n",
       "</table>\n",
       "<p>25 rows × 94 columns</p>\n",
       "</div>"
      ],
      "text/plain": [
       "    client_id   app_date education  sex  age  car  car_type  decline_app_cnt  \\\n",
       "0       74835 2014-03-22       GRD    1   29    1         1                0   \n",
       "1       17527 2014-01-24       SCH    0   39    0         0                5   \n",
       "2       75683 2014-03-23       UGR    1   50    1         1                0   \n",
       "3       26883 2014-02-03       SCH    1   56    0         0                0   \n",
       "4       28862 2014-02-04       GRD    0   38    0         0                0   \n",
       "5       99881 2014-04-17       SCH    0   55    0         0                0   \n",
       "6       26630 2014-02-02       SCH    0   30    0         0                3   \n",
       "7       79934 2014-03-28       GRD    1   41    1         1                0   \n",
       "8       16605 2014-01-23       GRD    1   34    0         0                0   \n",
       "9      105449 2014-04-24       UGR    1   28    1         1                0   \n",
       "10      49000 2014-02-25       GRD    0   32    1         1                0   \n",
       "11      28589 2014-02-04       GRD    1   37    1         1                0   \n",
       "12       7706 2014-01-15       SCH    0   43    0         0                0   \n",
       "13      96743 2014-04-13       GRD    1   27    1         0                0   \n",
       "14      63018 2014-03-12       SCH    1   46    1         0                0   \n",
       "15      68282 2014-03-17       SCH    1   46    1         1                0   \n",
       "16      25663 2014-02-01       GRD    1   27    1         1                0   \n",
       "17      39302 2014-02-15       SCH    0   52    0         0                1   \n",
       "18      84204 2014-04-01       GRD    1   43    1         1                0   \n",
       "19      44202 2014-02-20       SCH    1   49    0         0                0   \n",
       "20     102650 2014-04-20       SCH    0   53    0         0                0   \n",
       "21      19519 2014-01-27       UGR    0   36    0         0                0   \n",
       "22      47829 2014-02-24       SCH    0   39    0         0                0   \n",
       "23      10899 2014-01-18       SCH    0   61    0         0                0   \n",
       "24      16211 2014-01-23       PGR    1   37    0         0                0   \n",
       "\n",
       "    good_work  score_bki  ...  sna_1  sna_2  sna_3  sna_4  first_time_1  \\\n",
       "0           0  -2.271884  ...      1      0      0      0             0   \n",
       "1           0  -1.504999  ...      0      0      0      1             0   \n",
       "2           0  -1.691339  ...      1      0      0      0             0   \n",
       "3           0  -2.374182  ...      1      0      0      0             0   \n",
       "4           0  -2.487502  ...      1      0      0      0             0   \n",
       "5           0  -1.740224  ...      0      1      0      0             1   \n",
       "6           0  -1.387847  ...      0      0      0      1             0   \n",
       "7           0  -3.066047  ...      0      0      0      1             1   \n",
       "8           0  -3.117086  ...      1      0      0      0             0   \n",
       "9           0  -2.185172  ...      1      0      0      0             0   \n",
       "10          1  -1.929331  ...      0      0      0      1             1   \n",
       "11          0  -1.813165  ...      1      0      0      0             0   \n",
       "12          0  -2.105789  ...      1      0      0      0             0   \n",
       "13          1  -2.005796  ...      0      0      1      0             0   \n",
       "14          0  -2.054394  ...      0      0      0      1             1   \n",
       "15          1  -2.716155  ...      1      0      0      0             0   \n",
       "16          0  -1.282734  ...      1      0      0      0             0   \n",
       "17          0  -1.965286  ...      1      0      0      0             0   \n",
       "18          1  -1.976719  ...      0      1      0      0             0   \n",
       "19          0  -1.634663  ...      1      0      0      0             1   \n",
       "20          0  -1.432224  ...      1      0      0      0             0   \n",
       "21          0  -1.712838  ...      1      0      0      0             0   \n",
       "22          1  -1.564116  ...      1      0      0      0             0   \n",
       "23          1  -1.792209  ...      1      0      0      0             0   \n",
       "24          0  -2.723952  ...      0      0      0      1             1   \n",
       "\n",
       "    first_time_2  first_time_3  first_time_4  foreign_passport_0  \\\n",
       "0              0             0             1                   1   \n",
       "1              0             1             0                   1   \n",
       "2              0             1             0                   0   \n",
       "3              0             1             0                   1   \n",
       "4              0             1             0                   1   \n",
       "5              0             0             0                   1   \n",
       "6              0             1             0                   1   \n",
       "7              0             0             0                   1   \n",
       "8              1             0             0                   1   \n",
       "9              0             1             0                   0   \n",
       "10             0             0             0                   1   \n",
       "11             1             0             0                   0   \n",
       "12             1             0             0                   1   \n",
       "13             0             1             0                   0   \n",
       "14             0             0             0                   1   \n",
       "15             0             0             1                   1   \n",
       "16             0             1             0                   1   \n",
       "17             1             0             0                   1   \n",
       "18             0             1             0                   1   \n",
       "19             0             0             0                   1   \n",
       "20             1             0             0                   1   \n",
       "21             1             0             0                   1   \n",
       "22             0             1             0                   1   \n",
       "23             0             0             1                   1   \n",
       "24             0             0             0                   1   \n",
       "\n",
       "    foreign_passport_1  \n",
       "0                    0  \n",
       "1                    0  \n",
       "2                    1  \n",
       "3                    0  \n",
       "4                    0  \n",
       "5                    0  \n",
       "6                    0  \n",
       "7                    0  \n",
       "8                    0  \n",
       "9                    1  \n",
       "10                   0  \n",
       "11                   1  \n",
       "12                   0  \n",
       "13                   1  \n",
       "14                   0  \n",
       "15                   0  \n",
       "16                   0  \n",
       "17                   0  \n",
       "18                   0  \n",
       "19                   0  \n",
       "20                   0  \n",
       "21                   0  \n",
       "22                   0  \n",
       "23                   0  \n",
       "24                   0  \n",
       "\n",
       "[25 rows x 94 columns]"
      ]
     },
     "execution_count": 10,
     "metadata": {},
     "output_type": "execute_result"
    }
   ],
   "source": [
    "# data preprocessing\n",
    "data[\"education\"].fillna(\"NoEd\", inplace = True)\n",
    "\n",
    "# datetime variables\n",
    "dt_cols = ['app_date']\n",
    "\n",
    "# binary variables\n",
    "bin_cols = ['sex', 'car', 'car_type', 'good_work', 'foreign_passport']\n",
    "\n",
    "# categorical variables\n",
    "cat_cols = ['education', 'work_address', 'home_address', 'sna', 'first_time']\n",
    "\n",
    "# digital variables\n",
    "num_cols = ['age', 'decline_app_cnt', 'bki_request_cnt', 'income', 'score_bki', 'region_rating']\n",
    "\n",
    "# converting binary variables to digital format \n",
    "label_encoder = LabelEncoder()\n",
    "\n",
    "for column in bin_cols:\n",
    "    data[column] = label_encoder.fit_transform(data[column])\n",
    "\n",
    "# convert to datetime format\n",
    "data['app_date'] = pd.to_datetime(data['app_date'])\n",
    "\n",
    "# get dummies from categorical variables\n",
    "col_dummies = ['education', 'sex', 'car', 'car_type', 'good_work', 'region_rating', 'home_address', 'work_address', 'sna', 'first_time', 'foreign_passport']\n",
    "data_dummies = pd.get_dummies(data[col_dummies], columns=col_dummies)\n",
    "data = pd.concat([data, data_dummies], axis = 1)\n",
    "data\n",
    "# check changes:\n",
    "\n",
    "data.head(25)"
   ]
  },
  {
   "cell_type": "markdown",
   "id": "aa18bad2",
   "metadata": {},
   "source": [
    "Features Analysys"
   ]
  },
  {
   "cell_type": "code",
   "execution_count": 11,
   "id": "6324e194",
   "metadata": {},
   "outputs": [
    {
     "data": {
      "text/plain": [
       "2049     1\n",
       "60104    1\n",
       "39622    1\n",
       "33477    1\n",
       "35524    1\n",
       "        ..\n",
       "68875    1\n",
       "66826    1\n",
       "72969    1\n",
       "70920    1\n",
       "2047     1\n",
       "Name: client_id, Length: 110148, dtype: int64"
      ]
     },
     "execution_count": 11,
     "metadata": {},
     "output_type": "execute_result"
    }
   ],
   "source": [
    "data.client_id.value_counts()\n",
    "# id's are not duplicated"
   ]
  },
  {
   "cell_type": "code",
   "execution_count": 12,
   "id": "230fa866",
   "metadata": {},
   "outputs": [
    {
     "name": "stdout",
     "output_type": "stream",
     "text": [
      "[Timestamp('2014-01-01 00:00:00'), Timestamp('2014-04-30 00:00:00')]\n",
      "(2014-03-01 12:00:00, 2014-03-31 06:00:00]              30749\n",
      "(2014-01-30 18:00:00, 2014-03-01 12:00:00]              29161\n",
      "(2014-03-31 06:00:00, 2014-04-30]                       26266\n",
      "(2013-12-31 21:08:38.399999999, 2014-01-30 18:00:00]    23972\n",
      "Name: app_date, dtype: int64\n"
     ]
    }
   ],
   "source": [
    "time_delta = [data.app_date.min(), data.app_date.max()]\n",
    "print(time_delta)\n",
    "print(data.app_date.value_counts(bins = 4))\n",
    "# most applications were in March, least at January, range is 4000 aplications. we will check later importance of date of application"
   ]
  },
  {
   "cell_type": "code",
   "execution_count": 13,
   "id": "897476c5",
   "metadata": {},
   "outputs": [
    {
     "name": "stdout",
     "output_type": "stream",
     "text": [
      "SCH     57998\n",
      "GRD     34768\n",
      "UGR     14748\n",
      "PGR      1865\n",
      "NoEd      478\n",
      "ACD       291\n",
      "Name: education, dtype: int64\n"
     ]
    },
    {
     "data": {
      "text/plain": [
       "<AxesSubplot:xlabel='education', ylabel='count'>"
      ]
     },
     "execution_count": 13,
     "metadata": {},
     "output_type": "execute_result"
    },
    {
     "data": {
      "image/png": "[encoded data removed]",
      "text/plain": [
       "<Figure size 432x288 with 1 Axes>"
      ]
     },
     "metadata": {
      "needs_background": "light"
     },
     "output_type": "display_data"
    }
   ],
   "source": [
    "# check education distribution\n",
    "print(data.education.value_counts())\n",
    "sns.countplot(x = 'education', data = data)"
   ]
  },
  {
   "cell_type": "code",
   "execution_count": 14,
   "id": "b0a84ec3",
   "metadata": {},
   "outputs": [
    {
     "data": {
      "text/plain": [
       "education  default\n",
       "ACD        0          0.972509\n",
       "           1          0.027491\n",
       "GRD        0          0.939456\n",
       "           1          0.060544\n",
       "NoEd       0          0.926778\n",
       "           1          0.073222\n",
       "PGR        0          0.956568\n",
       "           1          0.043432\n",
       "SCH        0          0.899100\n",
       "           1          0.100900\n",
       "UGR        0          0.912463\n",
       "           1          0.087537\n",
       "Name: default, dtype: float64"
      ]
     },
     "execution_count": 14,
     "metadata": {},
     "output_type": "execute_result"
    }
   ],
   "source": [
    "# split default by education\n",
    "edu_def = data.groupby(['education'])['default'].value_counts(normalize = True)\n",
    "edu_def\n",
    "# we can see, that higher degree describes lower risk of default"
   ]
  },
  {
   "cell_type": "code",
   "execution_count": 15,
   "id": "0124dfc2",
   "metadata": {},
   "outputs": [
    {
     "data": {
      "text/plain": [
       "sex  default\n",
       "0    0          0.918510\n",
       "     1          0.081490\n",
       "1    0          0.910312\n",
       "     1          0.089688\n",
       "Name: default, dtype: float64"
      ]
     },
     "execution_count": 15,
     "metadata": {},
     "output_type": "execute_result"
    }
   ],
   "source": [
    "# split default by sex\n",
    "sex_def = data.groupby(['sex'])['default'].value_counts(normalize = True)\n",
    "sex_def\n",
    "# we can see, that there is no difference in sex, it distributred equally"
   ]
  },
  {
   "cell_type": "code",
   "execution_count": 16,
   "id": "a621e928",
   "metadata": {},
   "outputs": [
    {
     "data": {
      "text/plain": [
       "<AxesSubplot:xlabel='age', ylabel='Count'>"
      ]
     },
     "execution_count": 16,
     "metadata": {},
     "output_type": "execute_result"
    },
    {
     "data": {
      "image/png": "[encoded data removed]",
      "text/plain": [
       "<Figure size 432x288 with 1 Axes>"
      ]
     },
     "metadata": {
      "needs_background": "light"
     },
     "output_type": "display_data"
    }
   ],
   "source": [
    "sns.histplot(data.age)\n",
    "# Age distribution skewed to left, we will have to scale it later"
   ]
  },
  {
   "cell_type": "code",
   "execution_count": 17,
   "id": "04f2969a",
   "metadata": {},
   "outputs": [
    {
     "data": {
      "text/plain": [
       "car  default\n",
       "0    0          0.90813\n",
       "     1          0.09187\n",
       "1    0          0.92897\n",
       "     1          0.07103\n",
       "Name: default, dtype: float64"
      ]
     },
     "execution_count": 17,
     "metadata": {},
     "output_type": "execute_result"
    }
   ],
   "source": [
    "# split default by car\n",
    "car_def = data.groupby(['car'])['default'].value_counts(normalize = True)\n",
    "car_def\n",
    "# we can see, that people without car have more risk to default"
   ]
  },
  {
   "cell_type": "code",
   "execution_count": 18,
   "id": "6278ea85",
   "metadata": {},
   "outputs": [
    {
     "data": {
      "text/plain": [
       "car_type  default\n",
       "0         0          0.908604\n",
       "          1          0.091396\n",
       "1         0          0.941689\n",
       "          1          0.058311\n",
       "Name: default, dtype: float64"
      ]
     },
     "execution_count": 18,
     "metadata": {},
     "output_type": "execute_result"
    }
   ],
   "source": [
    "# split default by car_type\n",
    "cart_def = data.groupby(['car_type'])['default'].value_counts(normalize = True)\n",
    "cart_def\n",
    "# car type analysis shows, that people with foreign cars are less risky"
   ]
  },
  {
   "cell_type": "code",
   "execution_count": 19,
   "id": "e54866b8",
   "metadata": {},
   "outputs": [
    {
     "name": "stdout",
     "output_type": "stream",
     "text": [
      "0     91471\n",
      "1     12500\n",
      "2      3622\n",
      "3      1365\n",
      "4       606\n",
      "5       255\n",
      "6       156\n",
      "7        58\n",
      "8        37\n",
      "9        29\n",
      "10       16\n",
      "11       10\n",
      "12        5\n",
      "13        4\n",
      "14        3\n",
      "16        3\n",
      "15        1\n",
      "19        1\n",
      "20        1\n",
      "21        1\n",
      "22        1\n",
      "24        1\n",
      "30        1\n",
      "33        1\n",
      "Name: decline_app_cnt, dtype: int64\n"
     ]
    },
    {
     "data": {
      "text/plain": [
       "<AxesSubplot:xlabel='decline_app_cnt', ylabel='Count'>"
      ]
     },
     "execution_count": 19,
     "metadata": {},
     "output_type": "execute_result"
    },
    {
     "data": {
      "image/png": "[encoded data removed]",
      "text/plain": [
       "<Figure size 432x288 with 1 Axes>"
      ]
     },
     "metadata": {
      "needs_background": "light"
     },
     "output_type": "display_data"
    }
   ],
   "source": [
    "print(data.decline_app_cnt.value_counts())\n",
    "sns.histplot(data.decline_app_cnt)\n",
    "# Age distribution skewed to right, we will have to scale it later"
   ]
  },
  {
   "cell_type": "code",
   "execution_count": 20,
   "id": "0935f660",
   "metadata": {},
   "outputs": [
    {
     "name": "stdout",
     "output_type": "stream",
     "text": [
      "0     0.830437\n",
      "1     0.113484\n",
      "2     0.032883\n",
      "3     0.012392\n",
      "4     0.005502\n",
      "5     0.002315\n",
      "6     0.001416\n",
      "7     0.000527\n",
      "8     0.000336\n",
      "9     0.000263\n",
      "10    0.000145\n",
      "11    0.000091\n",
      "12    0.000045\n",
      "13    0.000036\n",
      "14    0.000027\n",
      "16    0.000027\n",
      "15    0.000009\n",
      "19    0.000009\n",
      "20    0.000009\n",
      "21    0.000009\n",
      "22    0.000009\n",
      "24    0.000009\n",
      "30    0.000009\n",
      "33    0.000009\n",
      "Name: decline_app_cnt, dtype: float64\n"
     ]
    }
   ],
   "source": [
    "print(data['decline_app_cnt'].value_counts(normalize = True))\n",
    "# 83% get positive answer at once, at second request approved 11% \n",
    "# group all request in 3 groups, 2 or more declines let's group in one \n",
    "data['decline_app_cnt'] = data['decline_app_cnt'].apply(lambda x: x if x < 2 else 2)"
   ]
  },
  {
   "cell_type": "code",
   "execution_count": 21,
   "id": "5954b742",
   "metadata": {},
   "outputs": [
    {
     "name": "stdout",
     "output_type": "stream",
     "text": [
      "0    91471\n",
      "1    12500\n",
      "2     6177\n",
      "Name: decline_app_cnt, dtype: int64\n"
     ]
    },
    {
     "data": {
      "text/plain": [
       "<AxesSubplot:xlabel='decline_app_cnt', ylabel='Count'>"
      ]
     },
     "execution_count": 21,
     "metadata": {},
     "output_type": "execute_result"
    },
    {
     "data": {
      "image/png": "[encoded data removed]",
      "text/plain": [
       "<Figure size 432x288 with 1 Axes>"
      ]
     },
     "metadata": {
      "needs_background": "light"
     },
     "output_type": "display_data"
    }
   ],
   "source": [
    "print(data.decline_app_cnt.value_counts())\n",
    "sns.histplot(data.decline_app_cnt)"
   ]
  },
  {
   "cell_type": "code",
   "execution_count": 22,
   "id": "29544576",
   "metadata": {},
   "outputs": [
    {
     "data": {
      "text/plain": [
       "good_work  default\n",
       "0          0          0.910550\n",
       "           1          0.089450\n",
       "1          0          0.936921\n",
       "           1          0.063079\n",
       "Name: default, dtype: float64"
      ]
     },
     "execution_count": 22,
     "metadata": {},
     "output_type": "execute_result"
    }
   ],
   "source": [
    "# split default by work\n",
    "work_def = data.groupby(['good_work'])['default'].value_counts(normalize = True)\n",
    "work_def\n",
    "# we can see, that people with bad work are less willing to return money"
   ]
  },
  {
   "cell_type": "code",
   "execution_count": 23,
   "id": "ed339d19",
   "metadata": {},
   "outputs": [
    {
     "name": "stdout",
     "output_type": "stream",
     "text": [
      "-1.775263    517\n",
      "-2.104211    454\n",
      "-2.225004    424\n",
      "-2.169664    375\n",
      "-2.024100    278\n",
      "            ... \n",
      "-1.544707      1\n",
      "-1.339377      1\n",
      "-1.670881      1\n",
      "-2.291558      1\n",
      "-2.296371      1\n",
      "Name: score_bki, Length: 102618, dtype: int64\n"
     ]
    },
    {
     "data": {
      "text/plain": [
       "<AxesSubplot:xlabel='score_bki', ylabel='Count'>"
      ]
     },
     "execution_count": 23,
     "metadata": {},
     "output_type": "execute_result"
    },
    {
     "data": {
      "image/png": "[encoded data removed]",
      "text/plain": [
       "<Figure size 432x288 with 1 Axes>"
      ]
     },
     "metadata": {
      "needs_background": "light"
     },
     "output_type": "display_data"
    }
   ],
   "source": [
    "print(data.score_bki.value_counts())\n",
    "sns.histplot(data.score_bki)\n",
    "# BKI scoring is normally distributed"
   ]
  },
  {
   "cell_type": "code",
   "execution_count": 24,
   "id": "a36fc72d",
   "metadata": {},
   "outputs": [
    {
     "name": "stdout",
     "output_type": "stream",
     "text": [
      "0     28908\n",
      "1     27295\n",
      "2     20481\n",
      "3     13670\n",
      "4      8406\n",
      "5      4960\n",
      "6      2500\n",
      "7      1292\n",
      "8       735\n",
      "9       459\n",
      "10      350\n",
      "11      278\n",
      "12      217\n",
      "13      151\n",
      "14      110\n",
      "15       81\n",
      "16       58\n",
      "17       33\n",
      "18       32\n",
      "19       30\n",
      "21       19\n",
      "20       14\n",
      "24       12\n",
      "23       12\n",
      "22        8\n",
      "25        5\n",
      "27        5\n",
      "28        5\n",
      "26        4\n",
      "32        4\n",
      "29        3\n",
      "40        2\n",
      "33        2\n",
      "36        1\n",
      "34        1\n",
      "41        1\n",
      "45        1\n",
      "46        1\n",
      "47        1\n",
      "53        1\n",
      "Name: bki_request_cnt, dtype: int64\n"
     ]
    },
    {
     "data": {
      "text/plain": [
       "<AxesSubplot:xlabel='bki_request_cnt', ylabel='Count'>"
      ]
     },
     "execution_count": 24,
     "metadata": {},
     "output_type": "execute_result"
    },
    {
     "data": {
      "image/png": "[encoded data removed]",
      "text/plain": [
       "<Figure size 432x288 with 1 Axes>"
      ]
     },
     "metadata": {
      "needs_background": "light"
     },
     "output_type": "display_data"
    }
   ],
   "source": [
    "print(data.bki_request_cnt.value_counts())\n",
    "sns.histplot(data.bki_request_cnt)\n",
    "# bki_request_cnt skewed to right"
   ]
  },
  {
   "cell_type": "code",
   "execution_count": 25,
   "id": "ae70d81d",
   "metadata": {},
   "outputs": [
    {
     "name": "stdout",
     "output_type": "stream",
     "text": [
      "50    40981\n",
      "60    23999\n",
      "40    17947\n",
      "80    17170\n",
      "70     9304\n",
      "30      434\n",
      "20      313\n",
      "Name: region_rating, dtype: int64\n"
     ]
    },
    {
     "data": {
      "text/plain": [
       "<AxesSubplot:xlabel='region_rating', ylabel='Count'>"
      ]
     },
     "execution_count": 25,
     "metadata": {},
     "output_type": "execute_result"
    },
    {
     "data": {
      "image/png": "[encoded data removed]",
      "text/plain": [
       "<Figure size 432x288 with 1 Axes>"
      ]
     },
     "metadata": {
      "needs_background": "light"
     },
     "output_type": "display_data"
    }
   ],
   "source": [
    "print(data.region_rating.value_counts())\n",
    "sns.histplot(data.region_rating)"
   ]
  },
  {
   "cell_type": "code",
   "execution_count": 26,
   "id": "8ccec63d",
   "metadata": {},
   "outputs": [
    {
     "data": {
      "text/plain": [
       "region_rating  default\n",
       "20             0          0.859425\n",
       "               1          0.140575\n",
       "30             0          0.868664\n",
       "               1          0.131336\n",
       "40             0          0.886276\n",
       "               1          0.113724\n",
       "50             0          0.908567\n",
       "               1          0.091433\n",
       "60             0          0.913705\n",
       "               1          0.086295\n",
       "70             0          0.938414\n",
       "               1          0.061586\n",
       "80             0          0.951136\n",
       "               1          0.048864\n",
       "Name: default, dtype: float64"
      ]
     },
     "execution_count": 26,
     "metadata": {},
     "output_type": "execute_result"
    }
   ],
   "source": [
    "reg_def = data.groupby(['region_rating'])['default'].value_counts(normalize = True)\n",
    "reg_def\n",
    "# region has impact on default risk, regions with lesser rating are more risky"
   ]
  },
  {
   "cell_type": "code",
   "execution_count": 27,
   "id": "8e6b0d01",
   "metadata": {},
   "outputs": [
    {
     "name": "stdout",
     "output_type": "stream",
     "text": [
      "2    59591\n",
      "1    48688\n",
      "3     1869\n",
      "Name: home_address, dtype: int64\n"
     ]
    },
    {
     "data": {
      "text/plain": [
       "home_address  default\n",
       "1             0          0.937829\n",
       "              1          0.062171\n",
       "2             0          0.895974\n",
       "              1          0.104026\n",
       "3             0          0.921883\n",
       "              1          0.078117\n",
       "Name: default, dtype: float64"
      ]
     },
     "execution_count": 27,
     "metadata": {},
     "output_type": "execute_result"
    }
   ],
   "source": [
    "print(data.home_address.value_counts())\n",
    "home_def = data.groupby(['home_address'])['default'].value_counts(normalize = True)\n",
    "home_def"
   ]
  },
  {
   "cell_type": "code",
   "execution_count": 28,
   "id": "f460e5c1",
   "metadata": {},
   "outputs": [
    {
     "name": "stdout",
     "output_type": "stream",
     "text": [
      "3    67113\n",
      "2    30761\n",
      "1    12274\n",
      "Name: work_address, dtype: int64\n"
     ]
    },
    {
     "data": {
      "text/plain": [
       "work_address  default\n",
       "1             0          0.949650\n",
       "              1          0.050350\n",
       "2             0          0.931667\n",
       "              1          0.068333\n",
       "3             0          0.900884\n",
       "              1          0.099116\n",
       "Name: default, dtype: float64"
      ]
     },
     "execution_count": 28,
     "metadata": {},
     "output_type": "execute_result"
    }
   ],
   "source": [
    "print(data.work_address.value_counts())\n",
    "work_def = data.groupby(['work_address'])['default'].value_counts(normalize = True)\n",
    "work_def"
   ]
  },
  {
   "cell_type": "code",
   "execution_count": 29,
   "id": "9ebbb2f7",
   "metadata": {},
   "outputs": [],
   "source": [
    "# both work and home adresses with higher rating corresponds to better return rate"
   ]
  },
  {
   "cell_type": "code",
   "execution_count": 30,
   "id": "e4935c7d",
   "metadata": {},
   "outputs": [
    {
     "name": "stdout",
     "output_type": "stream",
     "text": [
      "[1000, 1000000]\n",
      "(0.999, 250750.0]        109437\n",
      "(250750.0, 500500.0]        591\n",
      "(500500.0, 750250.0]         70\n",
      "(750250.0, 1000000.0]        50\n",
      "Name: income, dtype: int64\n"
     ]
    }
   ],
   "source": [
    "income_delta = [data.income.min(), data.income.max()]\n",
    "print(income_delta)\n",
    "print(data.income.value_counts(bins = 4))"
   ]
  },
  {
   "cell_type": "code",
   "execution_count": 31,
   "id": "cf292c3d",
   "metadata": {},
   "outputs": [
    {
     "data": {
      "text/plain": [
       "<AxesSubplot:xlabel='income', ylabel='Count'>"
      ]
     },
     "execution_count": 31,
     "metadata": {},
     "output_type": "execute_result"
    },
    {
     "data": {
      "image/png": "[encoded data removed]",
      "text/plain": [
       "<Figure size 432x288 with 1 Axes>"
      ]
     },
     "metadata": {
      "needs_background": "light"
     },
     "output_type": "display_data"
    }
   ],
   "source": [
    "sns.histplot(data.income)\n",
    "# income skewed to right"
   ]
  },
  {
   "cell_type": "code",
   "execution_count": 32,
   "id": "9c69f70c",
   "metadata": {},
   "outputs": [
    {
     "data": {
      "text/plain": [
       "count     110148.000000\n",
       "mean       41012.648537\n",
       "std        45399.735051\n",
       "min         1000.000000\n",
       "25%        20000.000000\n",
       "50%        30000.000000\n",
       "75%        48000.000000\n",
       "max      1000000.000000\n",
       "Name: income, dtype: float64"
      ]
     },
     "execution_count": 32,
     "metadata": {},
     "output_type": "execute_result"
    }
   ],
   "source": [
    "data['income'].describe()\n",
    "# standard deviation very high, we have outliers"
   ]
  },
  {
   "cell_type": "code",
   "execution_count": 33,
   "id": "8dc85cae",
   "metadata": {},
   "outputs": [
    {
     "name": "stdout",
     "output_type": "stream",
     "text": [
      "1    70681\n",
      "4    17481\n",
      "2    15832\n",
      "3     6154\n",
      "Name: sna, dtype: int64\n"
     ]
    },
    {
     "data": {
      "text/plain": [
       "sna  default\n",
       "1    0          0.934282\n",
       "     1          0.065718\n",
       "2    0          0.899444\n",
       "     1          0.100556\n",
       "3    0          0.894378\n",
       "     1          0.105622\n",
       "4    0          0.857846\n",
       "     1          0.142154\n",
       "Name: default, dtype: float64"
      ]
     },
     "execution_count": 33,
     "metadata": {},
     "output_type": "execute_result"
    }
   ],
   "source": [
    "print(data.sna.value_counts())\n",
    "sna_def = data.groupby(['sna'])['default'].value_counts(normalize = True)\n",
    "sna_def"
   ]
  },
  {
   "cell_type": "code",
   "execution_count": 34,
   "id": "63c274ae",
   "metadata": {},
   "outputs": [
    {
     "data": {
      "text/plain": [
       "<AxesSubplot:xlabel='sna', ylabel='Count'>"
      ]
     },
     "execution_count": 34,
     "metadata": {},
     "output_type": "execute_result"
    },
    {
     "data": {
      "image/png": "[encoded data removed]",
      "text/plain": [
       "<Figure size 432x288 with 1 Axes>"
      ]
     },
     "metadata": {
      "needs_background": "light"
     },
     "output_type": "display_data"
    }
   ],
   "source": [
    "sns.histplot(data.sna)\n",
    "# we can see that higher rating sna tends to lesser default"
   ]
  },
  {
   "cell_type": "code",
   "execution_count": 35,
   "id": "d2d446c7",
   "metadata": {},
   "outputs": [
    {
     "name": "stdout",
     "output_type": "stream",
     "text": [
      "3    46588\n",
      "4    28017\n",
      "1    18296\n",
      "2    17247\n",
      "Name: first_time, dtype: int64\n"
     ]
    },
    {
     "data": {
      "text/plain": [
       "first_time  default\n",
       "1           0          0.875492\n",
       "            1          0.124508\n",
       "2           0          0.895750\n",
       "            1          0.104250\n",
       "3           0          0.919314\n",
       "            1          0.080686\n",
       "4           0          0.945140\n",
       "            1          0.054860\n",
       "Name: default, dtype: float64"
      ]
     },
     "execution_count": 35,
     "metadata": {},
     "output_type": "execute_result"
    }
   ],
   "source": [
    "print(data.first_time.value_counts())\n",
    "times_def = data.groupby(['first_time'])['default'].value_counts(normalize = True)\n",
    "times_def\n",
    "# as longer bank has information about client as more chances for return"
   ]
  },
  {
   "cell_type": "code",
   "execution_count": 36,
   "id": "184a99ed",
   "metadata": {},
   "outputs": [
    {
     "data": {
      "text/plain": [
       "foreign_passport  default\n",
       "0                 0          0.908750\n",
       "                  1          0.091250\n",
       "1                 0          0.950082\n",
       "                  1          0.049918\n",
       "Name: default, dtype: float64"
      ]
     },
     "execution_count": 36,
     "metadata": {},
     "output_type": "execute_result"
    }
   ],
   "source": [
    "# split default by foreign passport\n",
    "pass_def = data.groupby(['foreign_passport'])['default'].value_counts(normalize = True)\n",
    "pass_def\n",
    "# we can see, that people with native passport are less willing to return money"
   ]
  },
  {
   "cell_type": "code",
   "execution_count": 37,
   "id": "b90d4a0b",
   "metadata": {},
   "outputs": [],
   "source": [
    "# log of skewed distributions\n",
    "data['age_log'] = data['age'].apply(lambda x: np.log(x))\n",
    "data['income_log'] = data['income'].apply(lambda x: np.log(x))"
   ]
  },
  {
   "cell_type": "markdown",
   "id": "96b53568",
   "metadata": {},
   "source": [
    "Preparing for test"
   ]
  },
  {
   "cell_type": "code",
   "execution_count": 38,
   "id": "98cf979b",
   "metadata": {},
   "outputs": [
    {
     "name": "stdout",
     "output_type": "stream",
     "text": [
      "<class 'pandas.core.frame.DataFrame'>\n",
      "RangeIndex: 110148 entries, 0 to 110147\n",
      "Data columns (total 81 columns):\n",
      " #   Column              Non-Null Count   Dtype  \n",
      "---  ------              --------------   -----  \n",
      " 0   decline_app_cnt     110148 non-null  int64  \n",
      " 1   score_bki           110148 non-null  float64\n",
      " 2   bki_request_cnt     110148 non-null  int64  \n",
      " 3   sample              110148 non-null  int64  \n",
      " 4   default             110148 non-null  int64  \n",
      " 5   education_ACD       110148 non-null  uint8  \n",
      " 6   education_GRD       110148 non-null  uint8  \n",
      " 7   education_NoEd      110148 non-null  uint8  \n",
      " 8   education_PGR       110148 non-null  uint8  \n",
      " 9   education_SCH       110148 non-null  uint8  \n",
      " 10  education_UGR       110148 non-null  uint8  \n",
      " 11  sex_0               110148 non-null  uint8  \n",
      " 12  sex_1               110148 non-null  uint8  \n",
      " 13  car_0               110148 non-null  uint8  \n",
      " 14  car_1               110148 non-null  uint8  \n",
      " 15  car_type_0          110148 non-null  uint8  \n",
      " 16  car_type_1          110148 non-null  uint8  \n",
      " 17  good_work_0         110148 non-null  uint8  \n",
      " 18  good_work_1         110148 non-null  uint8  \n",
      " 19  region_rating_20    110148 non-null  uint8  \n",
      " 20  region_rating_30    110148 non-null  uint8  \n",
      " 21  region_rating_40    110148 non-null  uint8  \n",
      " 22  region_rating_50    110148 non-null  uint8  \n",
      " 23  region_rating_60    110148 non-null  uint8  \n",
      " 24  region_rating_70    110148 non-null  uint8  \n",
      " 25  region_rating_80    110148 non-null  uint8  \n",
      " 26  home_address_1      110148 non-null  uint8  \n",
      " 27  home_address_2      110148 non-null  uint8  \n",
      " 28  home_address_3      110148 non-null  uint8  \n",
      " 29  work_address_1      110148 non-null  uint8  \n",
      " 30  work_address_2      110148 non-null  uint8  \n",
      " 31  work_address_3      110148 non-null  uint8  \n",
      " 32  sna_1               110148 non-null  uint8  \n",
      " 33  sna_2               110148 non-null  uint8  \n",
      " 34  sna_3               110148 non-null  uint8  \n",
      " 35  sna_4               110148 non-null  uint8  \n",
      " 36  first_time_1        110148 non-null  uint8  \n",
      " 37  first_time_2        110148 non-null  uint8  \n",
      " 38  first_time_3        110148 non-null  uint8  \n",
      " 39  first_time_4        110148 non-null  uint8  \n",
      " 40  foreign_passport_0  110148 non-null  uint8  \n",
      " 41  foreign_passport_1  110148 non-null  uint8  \n",
      " 42  education_ACD       110148 non-null  uint8  \n",
      " 43  education_GRD       110148 non-null  uint8  \n",
      " 44  education_NoEd      110148 non-null  uint8  \n",
      " 45  education_PGR       110148 non-null  uint8  \n",
      " 46  education_SCH       110148 non-null  uint8  \n",
      " 47  education_UGR       110148 non-null  uint8  \n",
      " 48  sex_0               110148 non-null  uint8  \n",
      " 49  sex_1               110148 non-null  uint8  \n",
      " 50  car_0               110148 non-null  uint8  \n",
      " 51  car_1               110148 non-null  uint8  \n",
      " 52  car_type_0          110148 non-null  uint8  \n",
      " 53  car_type_1          110148 non-null  uint8  \n",
      " 54  good_work_0         110148 non-null  uint8  \n",
      " 55  good_work_1         110148 non-null  uint8  \n",
      " 56  region_rating_20    110148 non-null  uint8  \n",
      " 57  region_rating_30    110148 non-null  uint8  \n",
      " 58  region_rating_40    110148 non-null  uint8  \n",
      " 59  region_rating_50    110148 non-null  uint8  \n",
      " 60  region_rating_60    110148 non-null  uint8  \n",
      " 61  region_rating_70    110148 non-null  uint8  \n",
      " 62  region_rating_80    110148 non-null  uint8  \n",
      " 63  home_address_1      110148 non-null  uint8  \n",
      " 64  home_address_2      110148 non-null  uint8  \n",
      " 65  home_address_3      110148 non-null  uint8  \n",
      " 66  work_address_1      110148 non-null  uint8  \n",
      " 67  work_address_2      110148 non-null  uint8  \n",
      " 68  work_address_3      110148 non-null  uint8  \n",
      " 69  sna_1               110148 non-null  uint8  \n",
      " 70  sna_2               110148 non-null  uint8  \n",
      " 71  sna_3               110148 non-null  uint8  \n",
      " 72  sna_4               110148 non-null  uint8  \n",
      " 73  first_time_1        110148 non-null  uint8  \n",
      " 74  first_time_2        110148 non-null  uint8  \n",
      " 75  first_time_3        110148 non-null  uint8  \n",
      " 76  first_time_4        110148 non-null  uint8  \n",
      " 77  foreign_passport_0  110148 non-null  uint8  \n",
      " 78  foreign_passport_1  110148 non-null  uint8  \n",
      " 79  age_log             110148 non-null  float64\n",
      " 80  income_log          110148 non-null  float64\n",
      "dtypes: float64(3), int64(4), uint8(74)\n",
      "memory usage: 13.7 MB\n"
     ]
    }
   ],
   "source": [
    "# drop columns\n",
    "data_dropped = data.drop(['client_id','app_date', 'age','income', 'education', 'sex', 'car', 'car_type', 'good_work', 'region_rating', 'home_address', \n",
    "                          'work_address', 'sna', 'first_time', 'foreign_passport'], axis=1)\n",
    "data_dropped.info()"
   ]
  },
  {
   "cell_type": "code",
   "execution_count": 40,
   "id": "412a9d0d",
   "metadata": {},
   "outputs": [
    {
     "data": {
      "text/plain": [
       "home_address_2  work_address_3    0.795366\n",
       "                work_address_3    0.795366\n",
       "work_address_3  home_address_2    0.795366\n",
       "                home_address_2    0.795366\n",
       "                home_address_2    0.795366\n",
       "                home_address_2    0.795366\n",
       "home_address_2  work_address_3    0.795366\n",
       "                work_address_3    0.795366\n",
       "dtype: float64"
      ]
     },
     "execution_count": 40,
     "metadata": {},
     "output_type": "execute_result"
    }
   ],
   "source": [
    "# corelation analysis\n",
    "corr = data_dropped.corr()\n",
    "\n",
    "s = corr.unstack()\n",
    "so = s.sort_values(kind=\"quicksort\")\n",
    "so[(so > 0.75) & (so < 1)]\n",
    "# as we see addresses are high correlated"
   ]
  },
  {
   "cell_type": "code",
   "execution_count": 41,
   "id": "29d7171d",
   "metadata": {},
   "outputs": [
    {
     "data": {
      "text/html": [
       "<div>\n",
       "<style scoped>\n",
       "    .dataframe tbody tr th:only-of-type {\n",
       "        vertical-align: middle;\n",
       "    }\n",
       "\n",
       "    .dataframe tbody tr th {\n",
       "        vertical-align: top;\n",
       "    }\n",
       "\n",
       "    .dataframe thead th {\n",
       "        text-align: right;\n",
       "    }\n",
       "</style>\n",
       "<table border=\"1\" class=\"dataframe\">\n",
       "  <thead>\n",
       "    <tr style=\"text-align: right;\">\n",
       "      <th></th>\n",
       "      <th>default</th>\n",
       "    </tr>\n",
       "  </thead>\n",
       "  <tbody>\n",
       "    <tr>\n",
       "      <th>default</th>\n",
       "      <td>1.000000</td>\n",
       "    </tr>\n",
       "    <tr>\n",
       "      <th>sample</th>\n",
       "      <td>0.214022</td>\n",
       "    </tr>\n",
       "    <tr>\n",
       "      <th>score_bki</th>\n",
       "      <td>0.139777</td>\n",
       "    </tr>\n",
       "    <tr>\n",
       "      <th>decline_app_cnt</th>\n",
       "      <td>0.099770</td>\n",
       "    </tr>\n",
       "    <tr>\n",
       "      <th>sna_1</th>\n",
       "      <td>0.092895</td>\n",
       "    </tr>\n",
       "    <tr>\n",
       "      <th>...</th>\n",
       "      <td>...</td>\n",
       "    </tr>\n",
       "    <tr>\n",
       "      <th>home_address_3</th>\n",
       "      <td>0.003282</td>\n",
       "    </tr>\n",
       "    <tr>\n",
       "      <th>education_NoEd</th>\n",
       "      <td>0.002807</td>\n",
       "    </tr>\n",
       "    <tr>\n",
       "      <th>education_NoEd</th>\n",
       "      <td>0.002807</td>\n",
       "    </tr>\n",
       "    <tr>\n",
       "      <th>region_rating_60</th>\n",
       "      <td>0.002288</td>\n",
       "    </tr>\n",
       "    <tr>\n",
       "      <th>region_rating_60</th>\n",
       "      <td>0.002288</td>\n",
       "    </tr>\n",
       "  </tbody>\n",
       "</table>\n",
       "<p>81 rows × 1 columns</p>\n",
       "</div>"
      ],
      "text/plain": [
       "                   default\n",
       "default           1.000000\n",
       "sample            0.214022\n",
       "score_bki         0.139777\n",
       "decline_app_cnt   0.099770\n",
       "sna_1             0.092895\n",
       "...                    ...\n",
       "home_address_3    0.003282\n",
       "education_NoEd    0.002807\n",
       "education_NoEd    0.002807\n",
       "region_rating_60  0.002288\n",
       "region_rating_60  0.002288\n",
       "\n",
       "[81 rows x 1 columns]"
      ]
     },
     "execution_count": 41,
     "metadata": {},
     "output_type": "execute_result"
    }
   ],
   "source": [
    "#correlation with target value\n",
    "corr.abs().sort_values(['default'], ascending = False)[['default']]"
   ]
  },
  {
   "cell_type": "code",
   "execution_count": 42,
   "id": "0835b2a2",
   "metadata": {},
   "outputs": [
    {
     "data": {
      "text/plain": [
       "<AxesSubplot:>"
      ]
     },
     "execution_count": 42,
     "metadata": {},
     "output_type": "execute_result"
    },
    {
     "data": {
      "image/png": "[encoded data removed]",
      "text/plain": [
       "<Figure size 432x288 with 2 Axes>"
      ]
     },
     "metadata": {
      "needs_background": "light"
     },
     "output_type": "display_data"
    }
   ],
   "source": [
    "#heatmap of correlation\n",
    "sns.heatmap(data_dropped.corr().abs())"
   ]
  },
  {
   "cell_type": "code",
   "execution_count": 43,
   "id": "d5fce253",
   "metadata": {},
   "outputs": [],
   "source": [
    "# split dataset\n",
    "traine = data_dropped.query('sample == 1').drop(['sample'], axis=1)\n",
    "test = data_dropped.query('sample == 0').drop(['sample', 'default'], axis=1)\n",
    "\n",
    "train, validation = train_test_split(traine, test_size=0.20, random_state=42)\n",
    "X_train = train[['decline_app_cnt','score_bki','education_ACD','education_GRD','education_NoEd','education_PGR','education_SCH','education_UGR',\n",
    "                'sex_0','sex_1','car_0','car_1', 'car_type_0', 'car_type_1','good_work_0','good_work_1','region_rating_20','region_rating_30','region_rating_40',\n",
    "                'region_rating_50','region_rating_60','region_rating_70','region_rating_80','home_address_1','home_address_2', 'home_address_3', 'work_address_1',\n",
    "                'work_address_2', 'work_address_3','sna_1','sna_2','sna_3','sna_4', 'first_time_1','first_time_2', 'first_time_3','first_time_4','foreign_passport_0',\n",
    "                'foreign_passport_1', 'age_log','income_log', 'bki_request_cnt']]\n",
    "y_train = train['default']\n",
    "X_validation = validation[['decline_app_cnt','score_bki','education_ACD','education_GRD','education_NoEd','education_PGR','education_SCH','education_UGR',\n",
    "                'sex_0','sex_1','car_0','car_1', 'car_type_0', 'car_type_1','good_work_0','good_work_1','region_rating_20','region_rating_30','region_rating_40',\n",
    "                'region_rating_50','region_rating_60','region_rating_70','region_rating_80','home_address_1','home_address_2', 'home_address_3', 'work_address_1',\n",
    "                'work_address_2', 'work_address_3','sna_1','sna_2','sna_3','sna_4', 'first_time_1','first_time_2', 'first_time_3','first_time_4','foreign_passport_0',\n",
    "                'foreign_passport_1', 'age_log','income_log', 'bki_request_cnt']]\n",
    "y_validation = validation['default']\n",
    "X_train.shape, y_train.shape, X_validation.shape, y_validation.shape\n",
    "corr = corr.drop(['sample'])"
   ]
  },
  {
   "cell_type": "code",
   "execution_count": 44,
   "id": "b972ab35",
   "metadata": {},
   "outputs": [],
   "source": [
    "# searching for features for learning\n",
    "roc_auc_ = 0\n",
    "f_beta_t_ = 0\n",
    "f_beta_v_ = 0\n",
    "i_roc_auc_ = 0\n",
    "i_beta_t_ = 0\n",
    "i_beta_v_ = 0\n",
    "roc_auc_l = []\n",
    "f_beta_t_l = []\n",
    "f_beta_v_l = []\n",
    "\n",
    "\n",
    "for i in range(corr.shape[1]-5):\n",
    "    col = corr.abs().sort_values(['default'], ascending = False)[['default']].index[1:i+4]\n",
    "    model = LogisticRegression(solver='liblinear')\n",
    "    model.fit(X_train[col], y_train)\n",
    "    y_pred = model.predict(X_validation[col])\n",
    "    y_pred_proba = model.predict_proba(X_validation[col])\n",
    "    y_pred_train = model.predict(X_train[col])\n",
    "    # Считаем метрики\n",
    "    roc_auc = roc_auc_score(y_validation, y_pred_proba[:,1])\n",
    "    roc_auc_l.append(round(roc_auc, 3))\n",
    "    f_beta_t = fbeta_score(y_train, y_pred_train, beta = 0.5)\n",
    "    f_beta_t_l.append(round(f_beta_t, 3))\n",
    "    f_beta_v = fbeta_score(y_validation, y_pred, beta = 0.5)\n",
    "    f_beta_v_l.append(round(f_beta_v, 3))\n",
    "    if roc_auc_ < roc_auc:\n",
    "        roc_auc_ = roc_auc\n",
    "        i_roc_auc_ = i+4\n",
    "    if f_beta_t_ < f_beta_t:\n",
    "        f_beta_t_ = f_beta_t\n",
    "        i_beta_t_ = i+4\n",
    "    if f_beta_v_ < f_beta_v:\n",
    "        f_beta_v_ = f_beta_v\n",
    "        i_beta_v_ = i+4"
   ]
  },
  {
   "cell_type": "code",
   "execution_count": 46,
   "id": "0febd5a0",
   "metadata": {},
   "outputs": [
    {
     "name": "stdout",
     "output_type": "stream",
     "text": [
      "Maximum roc_auc 0.7406516114312529 with columns to 67\n",
      "Maximum f_beta_t 0.11470620062763769 with columns to 78\n",
      "Maximum f_beta_v 0.10194834617127321 with columns to 50\n",
      "roc_auc change chart\n"
     ]
    },
    {
     "data": {
      "text/plain": [
       "[<matplotlib.lines.Line2D at 0x2e479749640>]"
      ]
     },
     "execution_count": 46,
     "metadata": {},
     "output_type": "execute_result"
    },
    {
     "data": {
      "image/png": "[encoded data removed]",
      "text/plain": [
       "<Figure size 432x288 with 1 Axes>"
      ]
     },
     "metadata": {
      "needs_background": "light"
     },
     "output_type": "display_data"
    }
   ],
   "source": [
    "print(f\"Maximum roc_auc {roc_auc_} with columns to {i_roc_auc_}\")\n",
    "print(f\"Maximum f_beta_t {f_beta_t_} with columns to {i_beta_t_}\")\n",
    "print(f\"Maximum f_beta_v {f_beta_v_} with columns to {i_beta_v_}\")\n",
    "print(\"roc_auc change chart\")\n",
    "plt.plot(roc_auc_l)"
   ]
  },
  {
   "cell_type": "code",
   "execution_count": 47,
   "id": "8fd9236d",
   "metadata": {},
   "outputs": [
    {
     "name": "stdout",
     "output_type": "stream",
     "text": [
      "f_beta metric change for testing and validation samples\n",
      "blue - f_beta testing sample, orange - f_beta validation sample\n"
     ]
    },
    {
     "data": {
      "text/plain": [
       "[<matplotlib.lines.Line2D at 0x2e47979bd30>]"
      ]
     },
     "execution_count": 47,
     "metadata": {},
     "output_type": "execute_result"
    },
    {
     "data": {
      "image/png": "[encoded data removed]",
      "text/plain": [
       "<Figure size 432x288 with 1 Axes>"
      ]
     },
     "metadata": {
      "needs_background": "light"
     },
     "output_type": "display_data"
    }
   ],
   "source": [
    "print(\"f_beta metric change for testing and validation samples\")\n",
    "print(\"blue - f_beta testing sample, orange - f_beta validation sample\")\n",
    "plt.plot(f_beta_t_l)\n",
    "plt.plot(f_beta_v_l)"
   ]
  },
  {
   "cell_type": "code",
   "execution_count": 48,
   "id": "3630871a",
   "metadata": {},
   "outputs": [
    {
     "data": {
      "text/plain": [
       "Index(['score_bki', 'decline_app_cnt', 'sna_1', 'sna_1', 'sna_4', 'sna_4',\n",
       "       'home_address_2', 'home_address_2', 'home_address_1', 'home_address_1',\n",
       "       'first_time_4', 'first_time_4', 'first_time_1', 'first_time_1',\n",
       "       'work_address_3', 'work_address_3', 'bki_request_cnt', 'education_SCH',\n",
       "       'education_SCH', 'education_GRD', 'education_GRD', 'region_rating_80',\n",
       "       'region_rating_80', 'foreign_passport_0', 'foreign_passport_0',\n",
       "       'foreign_passport_1', 'foreign_passport_1', 'car_type_0', 'car_type_0',\n",
       "       'car_type_1', 'car_type_1', 'region_rating_40', 'region_rating_40',\n",
       "       'work_address_1', 'work_address_1', 'income_log', 'work_address_2',\n",
       "       'work_address_2', 'good_work_1', 'good_work_1', 'good_work_0',\n",
       "       'good_work_0', 'car_1', 'car_1', 'car_0', 'car_0', 'first_time_2',\n",
       "       'first_time_2', 'region_rating_70'],\n",
       "      dtype='object')"
      ]
     },
     "execution_count": 48,
     "metadata": {},
     "output_type": "execute_result"
    }
   ],
   "source": [
    "# list of features suited for testing\n",
    "col_for_predicted = corr.abs().sort_values(['default'], ascending = False)[['default']].index[1:i_beta_v_]\n",
    "col_for_predicted"
   ]
  },
  {
   "cell_type": "markdown",
   "id": "ec5da069",
   "metadata": {},
   "source": [
    "Learning"
   ]
  },
  {
   "cell_type": "code",
   "execution_count": 49,
   "id": "9acdc2b3",
   "metadata": {},
   "outputs": [
    {
     "name": "stdout",
     "output_type": "stream",
     "text": [
      "(59039, 50) (59039,) (14760, 50) (14760,)\n",
      "confusion_matrix on train sample\n",
      "[[51293   201]\n",
      " [ 7339   206]]\n",
      "\n",
      "confusion_matrix on validation sample\n",
      "[[12883    50]\n",
      " [ 1782    45]]\n",
      "\n",
      "              precision    recall  f1-score   support\n",
      "\n",
      "           0       0.88      1.00      0.93     12933\n",
      "           1       0.47      0.02      0.05      1827\n",
      "\n",
      "    accuracy                           0.88     14760\n",
      "   macro avg       0.68      0.51      0.49     14760\n",
      "weighted avg       0.83      0.88      0.82     14760\n",
      "\n"
     ]
    },
    {
     "data": {
      "image/png": "[encoded data removed]",
      "text/plain": [
       "<Figure size 432x288 with 1 Axes>"
      ]
     },
     "metadata": {
      "needs_background": "light"
     },
     "output_type": "display_data"
    }
   ],
   "source": [
    "#split data\n",
    "X_train = train[['score_bki', 'decline_app_cnt', 'sna_1', 'sna_4', 'home_address_2',\n",
    "       'home_address_1', 'first_time_4', 'first_time_1', 'work_address_3',\n",
    "       'bki_request_cnt', 'education_SCH', 'education_GRD', 'region_rating_80',\n",
    "       'foreign_passport_0', 'foreign_passport_1', 'car_type_0', 'car_type_1',\n",
    "       'region_rating_40', 'work_address_1', 'income_log', 'work_address_2',\n",
    "       'good_work_1', 'good_work_0', 'car_1', 'car_0', 'first_time_2',\n",
    "       'region_rating_70']]\n",
    "y_train = train['default']\n",
    "X_validation = validation[['score_bki', 'decline_app_cnt', 'sna_1', 'sna_4', 'home_address_2',\n",
    "       'home_address_1', 'first_time_4', 'first_time_1', 'work_address_3',\n",
    "       'bki_request_cnt', 'education_SCH', 'education_GRD', 'region_rating_80',\n",
    "       'foreign_passport_0', 'foreign_passport_1', 'car_type_0', 'car_type_1',\n",
    "       'region_rating_40', 'work_address_1', 'income_log', 'work_address_2',\n",
    "       'good_work_1', 'good_work_0', 'car_1', 'car_0', 'first_time_2',\n",
    "       'region_rating_70']]\n",
    "y_validation = validation['default']\n",
    "print(X_train.shape, y_train.shape, X_validation.shape, y_validation.shape)\n",
    "# using Logistic Regression\n",
    "clf = LogisticRegression(solver='liblinear')\n",
    "clf.fit(X_train,y_train)\n",
    "y_pred=clf.predict(X_validation)\n",
    "y_pred_proba = clf.predict_proba(X_validation)\n",
    "y_pred_train = clf.predict(X_train)\n",
    "print('confusion_matrix on train sample')\n",
    "print(confusion_matrix(y_train, y_pred_train))\n",
    "print()\n",
    "print('confusion_matrix on validation sample')\n",
    "print(confusion_matrix(y_validation, y_pred))\n",
    "print()\n",
    "print(classification_report(y_validation, y_pred))\n",
    "roc_auc = roc_auc_score(y_validation, y_pred_proba[:,1])\n",
    "fpr, tpr, thresholds = roc_curve(y_validation, y_pred)\n",
    "plt.figure()\n",
    "plt.plot([0, 1], label='Baseline', linestyle='--')\n",
    "plt.plot(fpr, tpr, label = 'Regression')\n",
    "plt.title('Logistic Regression ROC AUC = %0.3f' % roc_auc)\n",
    "plt.ylabel('True Positive Rate')\n",
    "plt.xlabel('False Positive Rate')\n",
    "plt.legend(loc = 'lower right')\n",
    "plt.show()"
   ]
  },
  {
   "cell_type": "code",
   "execution_count": 50,
   "id": "815193e1",
   "metadata": {},
   "outputs": [
    {
     "name": "stderr",
     "output_type": "stream",
     "text": [
      "D:\\Python\\Anaconda\\lib\\site-packages\\sklearn\\model_selection\\_search.py:918: UserWarning: One or more of the test scores are non-finite: [       nan        nan        nan        nan 0.33542171        nan\n",
      " 0.33542163        nan 0.05079786 0.05152963        nan 0.05106001\n",
      " 0.05104751 0.05079786 0.05152963        nan 0.05106001 0.05104751\n",
      " 0.33549934 0.3360057  0.33561198 0.33570401 0.33540017 0.33549934\n",
      " 0.3360057  0.33561198 0.33564722 0.33541087 0.05104651 0.0515151\n",
      " 0.05105277 0.05129091 0.05104651 0.0515151  0.05105277 0.05129091\n",
      " 0.33555498 0.33606084 0.33574537 0.33540138 0.33555498 0.33606084\n",
      " 0.3353827  0.33541135]\n",
      "  warnings.warn(\n"
     ]
    },
    {
     "name": "stdout",
     "output_type": "stream",
     "text": [
      "\tC: 1.0\n",
      "\tclass_weight: 'balanced'\n",
      "\tdual: False\n",
      "\tfit_intercept: True\n",
      "\tintercept_scaling: 1\n",
      "\tl1_ratio: None\n",
      "\tmax_iter: 50\n",
      "\tmulti_class: 'auto'\n",
      "\tn_jobs: None\n",
      "\tpenalty: 'none'\n",
      "\trandom_state: None\n",
      "\tsolver: 'lbfgs'\n",
      "\ttol: 0.001\n",
      "\tverbose: 0\n",
      "\twarm_start: False\n"
     ]
    },
    {
     "name": "stderr",
     "output_type": "stream",
     "text": [
      "D:\\Python\\Anaconda\\lib\\site-packages\\sklearn\\linear_model\\_logistic.py:763: ConvergenceWarning: lbfgs failed to converge (status=1):\n",
      "STOP: TOTAL NO. of ITERATIONS REACHED LIMIT.\n",
      "\n",
      "Increase the number of iterations (max_iter) or scale the data as shown in:\n",
      "    https://scikit-learn.org/stable/modules/preprocessing.html\n",
      "Please also refer to the documentation for alternative solver options:\n",
      "    https://scikit-learn.org/stable/modules/linear_model.html#logistic-regression\n",
      "  n_iter_i = _check_optimize_result(\n"
     ]
    }
   ],
   "source": [
    "# looking for best regression parameters\n",
    "model = LogisticRegression()\n",
    "\n",
    "iter_ = 50\n",
    "epsilon_stop = 1e-3\n",
    "\n",
    "param_grid = [\n",
    "    {'penalty': ['l1'], \n",
    "     'solver': ['liblinear', 'lbfgs'], \n",
    "     'class_weight':['none', 'balanced'], \n",
    "     'multi_class': ['auto','ovr'], \n",
    "     'max_iter':[iter_],\n",
    "     'tol':[epsilon_stop]},\n",
    "    {'penalty': ['l2'], \n",
    "     'solver': ['newton-cg', 'lbfgs', 'liblinear', 'sag', 'saga'], \n",
    "     'class_weight':['none', 'balanced'], \n",
    "     'multi_class': ['auto','ovr'], \n",
    "     'max_iter':[iter_],\n",
    "     'tol':[epsilon_stop]},\n",
    "    {'penalty': ['none'], \n",
    "     'solver': ['newton-cg', 'lbfgs', 'sag', 'saga'], \n",
    "     'class_weight':['none', 'balanced'], \n",
    "     'multi_class': ['auto','ovr'], \n",
    "     'max_iter':[iter_],\n",
    "     'tol':[epsilon_stop]},\n",
    "]\n",
    "\n",
    "## aplying on our model\n",
    "gridsearch = GridSearchCV(model, param_grid, scoring='f1', n_jobs=-1, cv=5)\n",
    "gridsearch.fit(X_train, y_train)\n",
    "model = gridsearch.best_estimator_\n",
    "\n",
    "# best parametres \n",
    "best_parameters = model.get_params()\n",
    "for param_name in sorted(best_parameters.keys()):\n",
    "        print('\\t%s: %r' % (param_name, best_parameters[param_name]))"
   ]
  },
  {
   "cell_type": "code",
   "execution_count": 51,
   "id": "ec576b7f",
   "metadata": {},
   "outputs": [
    {
     "name": "stderr",
     "output_type": "stream",
     "text": [
      "D:\\Python\\Anaconda\\lib\\site-packages\\sklearn\\linear_model\\_logistic.py:763: ConvergenceWarning: lbfgs failed to converge (status=1):\n",
      "STOP: TOTAL NO. of ITERATIONS REACHED LIMIT.\n",
      "\n",
      "Increase the number of iterations (max_iter) or scale the data as shown in:\n",
      "    https://scikit-learn.org/stable/modules/preprocessing.html\n",
      "Please also refer to the documentation for alternative solver options:\n",
      "    https://scikit-learn.org/stable/modules/linear_model.html#logistic-regression\n",
      "  n_iter_i = _check_optimize_result(\n"
     ]
    },
    {
     "name": "stdout",
     "output_type": "stream",
     "text": [
      "confusion_matrix on train sample\n",
      "[[34215 17279]\n",
      " [ 2524  5021]]\n",
      "\n",
      "confusion_matrix on validation sample\n",
      "[[8561 4372]\n",
      " [ 579 1248]]\n",
      "\n",
      "              precision    recall  f1-score   support\n",
      "\n",
      "           0       0.94      0.66      0.78     12933\n",
      "           1       0.22      0.68      0.34      1827\n",
      "\n",
      "    accuracy                           0.66     14760\n",
      "   macro avg       0.58      0.67      0.56     14760\n",
      "weighted avg       0.85      0.66      0.72     14760\n",
      "\n"
     ]
    },
    {
     "data": {
      "image/png": "[encoded data removed]",
      "text/plain": [
       "<Figure size 432x288 with 1 Axes>"
      ]
     },
     "metadata": {
      "needs_background": "light"
     },
     "output_type": "display_data"
    }
   ],
   "source": [
    "# applying parameters\n",
    "clf = LogisticRegression(C = 1.0, class_weight = 'balanced', dual = False, fit_intercept = True, intercept_scaling = 1,\n",
    "                         l1_ratio = None, max_iter = 50, multi_class = 'auto', n_jobs = None, penalty = 'none',\n",
    "                         random_state = None, solver = 'lbfgs', tol = 0.001, verbose = 0, warm_start = False)\n",
    "clf.fit(X_train,y_train)\n",
    "y_pred=clf.predict(X_validation)\n",
    "y_pred_proba = clf.predict_proba(X_validation)\n",
    "y_pred_train = clf.predict(X_train)\n",
    "print('confusion_matrix on train sample')\n",
    "print(confusion_matrix(y_train, y_pred_train))\n",
    "print()\n",
    "print('confusion_matrix on validation sample')\n",
    "print(confusion_matrix(y_validation, y_pred))\n",
    "print()\n",
    "print(classification_report(y_validation, y_pred))\n",
    "roc_auc = roc_auc_score(y_validation, y_pred_proba[:,1])\n",
    "fpr, tpr, thresholds = roc_curve(y_validation, y_pred)\n",
    "plt.figure()\n",
    "plt.plot([0, 1], label='Baseline', linestyle='--')\n",
    "plt.plot(fpr, tpr, label = 'Regression')\n",
    "plt.title('Logistic Regression ROC AUC = %0.3f' % roc_auc)\n",
    "plt.ylabel('True Positive Rate')\n",
    "plt.xlabel('False Positive Rate')\n",
    "plt.legend(loc = 'lower right')\n",
    "plt.show()"
   ]
  },
  {
   "cell_type": "markdown",
   "id": "c0a485ba",
   "metadata": {},
   "source": [
    "Submission"
   ]
  },
  {
   "cell_type": "code",
   "execution_count": 52,
   "id": "43773b82",
   "metadata": {},
   "outputs": [
    {
     "data": {
      "text/html": [
       "<div>\n",
       "<style scoped>\n",
       "    .dataframe tbody tr th:only-of-type {\n",
       "        vertical-align: middle;\n",
       "    }\n",
       "\n",
       "    .dataframe tbody tr th {\n",
       "        vertical-align: top;\n",
       "    }\n",
       "\n",
       "    .dataframe thead th {\n",
       "        text-align: right;\n",
       "    }\n",
       "</style>\n",
       "<table border=\"1\" class=\"dataframe\">\n",
       "  <thead>\n",
       "    <tr style=\"text-align: right;\">\n",
       "      <th></th>\n",
       "      <th>client_id</th>\n",
       "      <th>default</th>\n",
       "    </tr>\n",
       "  </thead>\n",
       "  <tbody>\n",
       "    <tr>\n",
       "      <th>0</th>\n",
       "      <td>74835</td>\n",
       "      <td>0</td>\n",
       "    </tr>\n",
       "    <tr>\n",
       "      <th>1</th>\n",
       "      <td>17527</td>\n",
       "      <td>1</td>\n",
       "    </tr>\n",
       "    <tr>\n",
       "      <th>2</th>\n",
       "      <td>75683</td>\n",
       "      <td>0</td>\n",
       "    </tr>\n",
       "    <tr>\n",
       "      <th>3</th>\n",
       "      <td>26883</td>\n",
       "      <td>0</td>\n",
       "    </tr>\n",
       "    <tr>\n",
       "      <th>4</th>\n",
       "      <td>28862</td>\n",
       "      <td>0</td>\n",
       "    </tr>\n",
       "    <tr>\n",
       "      <th>5</th>\n",
       "      <td>99881</td>\n",
       "      <td>1</td>\n",
       "    </tr>\n",
       "    <tr>\n",
       "      <th>6</th>\n",
       "      <td>26630</td>\n",
       "      <td>1</td>\n",
       "    </tr>\n",
       "    <tr>\n",
       "      <th>7</th>\n",
       "      <td>79934</td>\n",
       "      <td>0</td>\n",
       "    </tr>\n",
       "    <tr>\n",
       "      <th>8</th>\n",
       "      <td>16605</td>\n",
       "      <td>0</td>\n",
       "    </tr>\n",
       "    <tr>\n",
       "      <th>9</th>\n",
       "      <td>105449</td>\n",
       "      <td>0</td>\n",
       "    </tr>\n",
       "  </tbody>\n",
       "</table>\n",
       "</div>"
      ],
      "text/plain": [
       "   client_id  default\n",
       "0      74835        0\n",
       "1      17527        1\n",
       "2      75683        0\n",
       "3      26883        0\n",
       "4      28862        0\n",
       "5      99881        1\n",
       "6      26630        1\n",
       "7      79934        0\n",
       "8      16605        0\n",
       "9     105449        0"
      ]
     },
     "execution_count": 52,
     "metadata": {},
     "output_type": "execute_result"
    }
   ],
   "source": [
    "X_test = test[['score_bki', 'decline_app_cnt', 'sna_1', 'sna_4', 'home_address_2',\n",
    "       'home_address_1', 'first_time_4', 'first_time_1', 'work_address_3',\n",
    "       'bki_request_cnt', 'education_SCH', 'education_GRD', 'region_rating_80',\n",
    "       'foreign_passport_0', 'foreign_passport_1', 'car_type_0', 'car_type_1',\n",
    "       'region_rating_40', 'work_address_1', 'income_log', 'work_address_2',\n",
    "       'good_work_1', 'good_work_0', 'car_1', 'car_0', 'first_time_2',\n",
    "       'region_rating_70']]\n",
    "y_submit = clf.predict(X_test)\n",
    "\n",
    "sample_submission['default'] = y_submit\n",
    "sample_submission.to_csv('submission.csv', index=False)\n",
    "sample_submission.head(10)"
   ]
  }
 ],
 "metadata": {
  "kernelspec": {
   "display_name": "Python 3",
   "language": "python",
   "name": "python3"
  },
  "language_info": {
   "codemirror_mode": {
    "name": "ipython",
    "version": 3
   },
   "file_extension": ".py",
   "mimetype": "text/x-python",
   "name": "python",
   "nbconvert_exporter": "python",
   "pygments_lexer": "ipython3",
   "version": "3.8.8"
  }
 },
 "nbformat": 4,
 "nbformat_minor": 5
}
